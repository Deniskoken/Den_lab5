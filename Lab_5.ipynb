{
 "cells": [
  {
   "cell_type": "code",
   "execution_count": 11,
   "id": "41aad2a1-afb4-484c-90d1-b3bc5319d6ff",
   "metadata": {
    "scrolled": true
   },
   "outputs": [
    {
     "name": "stdin",
     "output_type": "stream",
     "text": [
      " abb\n"
     ]
    },
    {
     "name": "stdout",
     "output_type": "stream",
     "text": [
      "True\n"
     ]
    }
   ],
   "source": [
    "#1\n",
    "import re\n",
    "\n",
    "txt = str(input())\n",
    "x = re.fullmatch(r'ab*', txt)\n",
    "print(bool(x))\n"
   ]
  },
  {
   "cell_type": "code",
   "execution_count": 23,
   "id": "2a0c91a4-91e7-4f87-ba4c-28149079841b",
   "metadata": {},
   "outputs": [
    {
     "name": "stdin",
     "output_type": "stream",
     "text": [
      " abbbb\n"
     ]
    },
    {
     "name": "stdout",
     "output_type": "stream",
     "text": [
      "False\n"
     ]
    }
   ],
   "source": [
    "#2\n",
    "import re\n",
    "\n",
    "txt = str(input())\n",
    "x = re.fullmatch(r'ab{2,3}$', txt)\n",
    "\n",
    "print(bool(x))"
   ]
  },
  {
   "cell_type": "code",
   "execution_count": 31,
   "id": "6ea29903-0d2a-4109-abf8-2b304dd8874b",
   "metadata": {},
   "outputs": [
    {
     "name": "stdin",
     "output_type": "stream",
     "text": [
      " hello_\n"
     ]
    },
    {
     "name": "stdout",
     "output_type": "stream",
     "text": [
      "False\n"
     ]
    }
   ],
   "source": [
    "#3\n",
    "import re\n",
    "\n",
    "txt = str(input())\n",
    "x = re.fullmatch(r'^[a-z]+_[a-z]+$',txt)\n",
    "print(bool(x))"
   ]
  },
  {
   "cell_type": "code",
   "execution_count": 53,
   "id": "f2fa0fbd-f217-42ce-9bdb-1e8f81144503",
   "metadata": {},
   "outputs": [
    {
     "name": "stdin",
     "output_type": "stream",
     "text": [
      " Kom\n"
     ]
    },
    {
     "name": "stdout",
     "output_type": "stream",
     "text": [
      "True\n"
     ]
    }
   ],
   "source": [
    "#4\n",
    "import re\n",
    "\n",
    "txt = str(input())\n",
    "x = re.fullmatch(r'^[A-Z][a-z]+$',txt)\n",
    "print(bool(x))"
   ]
  },
  {
   "cell_type": "code",
   "execution_count": 55,
   "id": "f95e2388-2812-41dd-ae41-60e0cb780e3b",
   "metadata": {},
   "outputs": [
    {
     "name": "stdin",
     "output_type": "stream",
     "text": [
      " andvonb\n"
     ]
    },
    {
     "name": "stdout",
     "output_type": "stream",
     "text": [
      "True\n"
     ]
    }
   ],
   "source": [
    "#5\n",
    "import re\n",
    "\n",
    "txt = str(input())\n",
    "x = re.fullmatch(r'^a.*b$',txt)\n",
    "print(bool(x))\n"
   ]
  },
  {
   "cell_type": "code",
   "execution_count": 5,
   "id": "d47f8e48-9873-4dfd-ae41-be80843a447b",
   "metadata": {},
   "outputs": [
    {
     "name": "stdin",
     "output_type": "stream",
     "text": [
      " h334. 34tmt,t3vv.  \n"
     ]
    },
    {
     "name": "stdout",
     "output_type": "stream",
     "text": [
      "h334::34tmt:t3vv:::\n"
     ]
    }
   ],
   "source": [
    "#6\n",
    "import re\n",
    "\n",
    "txt = str(input())\n",
    "x = re.sub(r'[ ,.]', ':', txt)\n",
    "print(x)\n"
   ]
  },
  {
   "cell_type": "code",
   "execution_count": 102,
   "id": "3278042d-5026-451d-9385-0b4614301964",
   "metadata": {},
   "outputs": [
    {
     "name": "stdin",
     "output_type": "stream",
     "text": [
      " FGH_guhij_hnjmk_okoj\n"
     ]
    },
    {
     "name": "stdout",
     "output_type": "stream",
     "text": [
      "FGHGuhijHnjmkOkoj\n"
     ]
    }
   ],
   "source": [
    "#7\n",
    "import re\n",
    "\n",
    "txt = str(input())\n",
    "massiv = txt.split('_')\n",
    "x = (massiv[0] + ''.join(m.title() for m in massiv[1:]))\n",
    "print(x)\n"
   ]
  },
  {
   "cell_type": "code",
   "execution_count": 85,
   "id": "f6dca6da-f445-4d30-b8fe-c6b2df79fb96",
   "metadata": {},
   "outputs": [
    {
     "name": "stdin",
     "output_type": "stream",
     "text": [
      " HelloWorldPython\n"
     ]
    },
    {
     "name": "stdout",
     "output_type": "stream",
     "text": [
      "['', 'Hello', 'World', 'Python']\n"
     ]
    }
   ],
   "source": [
    "#8\n",
    "import re\n",
    "\n",
    "txt = str(input())\n",
    "x = re.split(r'(?=[A-Z])',txt)\n",
    "print(x)"
   ]
  },
  {
   "cell_type": "code",
   "execution_count": 106,
   "id": "417e606b-119a-4292-a3d0-d7eef17a3913",
   "metadata": {},
   "outputs": [
    {
     "name": "stdin",
     "output_type": "stream",
     "text": [
      " FdfghTfghIGH\n"
     ]
    },
    {
     "name": "stdout",
     "output_type": "stream",
     "text": [
      "Fdfgh Tfgh I G H\n"
     ]
    }
   ],
   "source": [
    "#9\n",
    "import re\n",
    "\n",
    "txt = str(input())\n",
    "x = re.sub(r'(?<!^)(?=[A-Z])', ' ', txt)\n",
    "print(x)"
   ]
  },
  {
   "cell_type": "code",
   "execution_count": 100,
   "id": "9d9155a8-d498-4cc1-9333-9856ab3e9b80",
   "metadata": {},
   "outputs": [
    {
     "name": "stdin",
     "output_type": "stream",
     "text": [
      " wsedrftgyhuiRFSH\n"
     ]
    },
    {
     "name": "stdout",
     "output_type": "stream",
     "text": [
      "wsedrftgyhui_R_F_S_H\n"
     ]
    }
   ],
   "source": [
    "#10\n",
    "import re\n",
    "\n",
    "txt = str(input())\n",
    "x = re.sub(r'(?<!^)(?=[A-Z])', '_', txt)\n",
    "print(x)"
   ]
  },
  {
   "cell_type": "code",
   "execution_count": null,
   "id": "96725dc2-8792-4da4-887f-e2eee18e6442",
   "metadata": {},
   "outputs": [],
   "source": []
  },
  {
   "cell_type": "code",
   "execution_count": null,
   "id": "940d2403-6cd0-4c65-b4b9-e618cbe02bdf",
   "metadata": {},
   "outputs": [],
   "source": []
  }
 ],
 "metadata": {
  "kernelspec": {
   "display_name": "Python [conda env:base] *",
   "language": "python",
   "name": "conda-base-py"
  },
  "language_info": {
   "codemirror_mode": {
    "name": "ipython",
    "version": 3
   },
   "file_extension": ".py",
   "mimetype": "text/x-python",
   "name": "python",
   "nbconvert_exporter": "python",
   "pygments_lexer": "ipython3",
   "version": "3.12.7"
  }
 },
 "nbformat": 4,
 "nbformat_minor": 5
}
